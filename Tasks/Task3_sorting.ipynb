{
 "cells": [
  {
   "cell_type": "markdown",
   "id": "cb0b87bc-4166-4251-ace7-d672abfdcae3",
   "metadata": {},
   "source": [
    "## Task3_1 88. Merge Sorted Array\n",
    "You are given two integer arrays nums1 and nums2, sorted in non-decreasing order, and two integers m and n, representing the number of elements in nums1 and nums2 respectively.\n",
    "\n",
    "Merge nums1 and nums2 into a single array sorted in non-decreasing order.\n",
    "\n",
    "The final sorted array should not be returned by the function, but instead be stored inside the array nums1. To accommodate this, nums1 has a length of m + n, where the first m elements denote the elements that should be merged, and the last n elements are set to 0 and should be ignored. nums2 has a length of n."
   ]
  },
  {
   "cell_type": "code",
   "execution_count": 405,
   "id": "407d18e0-1b54-4fb6-b448-043940f62fd5",
   "metadata": {},
   "outputs": [],
   "source": [
    "def merge(nums1, m, nums2, n):\n",
    "    if m==0:\n",
    "        nums1=nums2\n",
    "    else:\n",
    "        #идем по nums2, если сразу он больше nums1, сразу вставляем в конец, 0 убираем\n",
    "        for i in range(n):\n",
    "            if nums2[i]>nums1[m-1]:\n",
    "                nums1.insert(m+1, nums2[i])\n",
    "                nums1.pop()\n",
    "                m+=1                \n",
    "            #идем по nums1\n",
    "            for j in range(len(nums1)): \n",
    "                #сравниваем\n",
    "                if nums2[i]>nums1[j] and j<=m-1:\n",
    "                    continue\n",
    "                    #вставляем, убираем 0 с конца\n",
    "                else:\n",
    "                    nums1.insert(j, nums2[i])\n",
    "                    nums1.pop()\n",
    "                    break\n",
    "    return nums1\n",
    "                "
   ]
  },
  {
   "cell_type": "code",
   "execution_count": 406,
   "id": "cfdcbd0d-a8eb-456e-845a-255bc706ac82",
   "metadata": {},
   "outputs": [
    {
     "data": {
      "text/plain": [
       "[1]"
      ]
     },
     "execution_count": 406,
     "metadata": {},
     "output_type": "execute_result"
    }
   ],
   "source": [
    "# Example 3:\n",
    "nums1 = [0]\n",
    "m = 0\n",
    "nums2 = [1]\n",
    "n = 1\n",
    "merge(nums1, m, nums2, n)"
   ]
  },
  {
   "cell_type": "code",
   "execution_count": 402,
   "id": "ae58684c-31f6-4cfe-a910-53c14375afbc",
   "metadata": {},
   "outputs": [
    {
     "data": {
      "text/plain": [
       "[1, 2, 3, 4, 5, 6]"
      ]
     },
     "execution_count": 402,
     "metadata": {},
     "output_type": "execute_result"
    }
   ],
   "source": [
    "# Example 3:\n",
    "nums1 = [4,5,6,0,0,0]\n",
    "m = 3\n",
    "nums2 = [1,2,3]\n",
    "n = 3\n",
    "\n",
    "merge(nums1, m, nums2, n)"
   ]
  },
  {
   "cell_type": "code",
   "execution_count": 403,
   "id": "f452c8ad-0abf-4317-b66f-67216c35d9bc",
   "metadata": {
    "scrolled": true
   },
   "outputs": [
    {
     "data": {
      "text/plain": [
       "[1, 2, 2, 3, 5, 6]"
      ]
     },
     "execution_count": 403,
     "metadata": {},
     "output_type": "execute_result"
    }
   ],
   "source": [
    "#### Example 1:\n",
    "\n",
    "nums1 =[1,2,3,0,0,0]\n",
    "m = 3\n",
    "nums2 = [2,5,6]\n",
    "n = 3\n",
    "#Output: [1,2,2,3,5,6]\n",
    "merge(nums1, m, nums2, n)\n"
   ]
  },
  {
   "cell_type": "code",
   "execution_count": 404,
   "id": "02efc6d0-a1a8-4c9a-8ba3-105c40a0db29",
   "metadata": {},
   "outputs": [
    {
     "data": {
      "text/plain": [
       "[1]"
      ]
     },
     "execution_count": 404,
     "metadata": {},
     "output_type": "execute_result"
    }
   ],
   "source": [
    "# Example 2:\n",
    "nums1 = [1]\n",
    "m = 1\n",
    "nums2 = []\n",
    "n = 0\n",
    "merge(nums1, m, nums2, n)"
   ]
  },
  {
   "cell_type": "code",
   "execution_count": 418,
   "id": "ed28cf51-a726-4e25-a2c7-909c1d8155a9",
   "metadata": {},
   "outputs": [],
   "source": [
    "def merge(nums1, m, nums2, n):\n",
    "    # Указатели для конца значимых элементов в nums1 и nums2\n",
    "    i = m - 1\n",
    "    j = n - 1\n",
    "    # Указатель для конца итогового массива в nums1\n",
    "    k = m + n - 1\n",
    "\n",
    "    # Сравниваем и перемещаем элементы с конца\n",
    "    while i >= 0 and j >= 0:\n",
    "        if nums1[i] > nums2[j]:\n",
    "            nums1[k] = nums1[i]\n",
    "            i -= 1\n",
    "        else:\n",
    "            nums1[k] = nums2[j]\n",
    "            j -= 1\n",
    "        k -= 1\n",
    "    print(nums1)      \n",
    "    print(nums2)    \n",
    "\n",
    "    # Если остались элементы в nums2, копируем их в nums1\n",
    "    while j >= 0:\n",
    "        nums1[k] = nums2[j]\n",
    "        j -= 1\n",
    "        k -= 1\n",
    "    return nums1"
   ]
  },
  {
   "cell_type": "markdown",
   "id": "d01fef38-59e7-4efe-ad65-64aac4b21fad",
   "metadata": {},
   "source": [
    "### Task 3_2 \n",
    "Given an array nums containing n distinct numbers in the range [0, n], return the only number in the range that is missing from the array."
   ]
  },
  {
   "cell_type": "code",
   "execution_count": 437,
   "id": "6754b6fb-8bd5-4eab-ad45-e55547fe81e9",
   "metadata": {},
   "outputs": [],
   "source": [
    "def missingNumber(nums):\n",
    "    return [x for x in range(len(nums)+1) if x not in nums][0]"
   ]
  },
  {
   "cell_type": "code",
   "execution_count": 438,
   "id": "9400fd78-37d9-4e59-8e2f-4afb6eb7d01e",
   "metadata": {},
   "outputs": [
    {
     "data": {
      "text/plain": [
       "2"
      ]
     },
     "execution_count": 438,
     "metadata": {},
     "output_type": "execute_result"
    }
   ],
   "source": [
    "nums = [3,0,1]\n",
    "missingNumber(nums)"
   ]
  },
  {
   "cell_type": "code",
   "execution_count": 439,
   "id": "f6a72f78-0a53-4235-99df-c024326be629",
   "metadata": {},
   "outputs": [
    {
     "data": {
      "text/plain": [
       "2"
      ]
     },
     "execution_count": 439,
     "metadata": {},
     "output_type": "execute_result"
    }
   ],
   "source": [
    "nums = [0,1]\n",
    "missingNumber(nums)"
   ]
  },
  {
   "cell_type": "code",
   "execution_count": 440,
   "id": "9debf576-befd-4c35-887e-457f7557ac0f",
   "metadata": {},
   "outputs": [
    {
     "data": {
      "text/plain": [
       "8"
      ]
     },
     "execution_count": 440,
     "metadata": {},
     "output_type": "execute_result"
    }
   ],
   "source": [
    "nums = [9,6,4,2,3,5,7,0,1]\n",
    "missingNumber(nums)"
   ]
  },
  {
   "cell_type": "markdown",
   "id": "7c683c7b-3b3f-43d8-8379-c092ccb4dda4",
   "metadata": {},
   "source": [
    "### 561. Array Partition\n",
    "Given an integer array nums of 2n integers, group these integers into n pairs (a1, b1), (a2, b2), ..., (an, bn) such that the sum of min(ai, bi) for all i is maximized. Return the maximized sum."
   ]
  },
  {
   "cell_type": "code",
   "execution_count": 446,
   "id": "f0126527-2e05-462d-9a2e-a956cc46935d",
   "metadata": {},
   "outputs": [],
   "source": [
    "def arrayPairSum(nums):\n",
    "    nums.sort()\n",
    "    print(nums)\n",
    "    nums_sum = 0\n",
    "    for i in range(0, len(nums), 2):\n",
    "        nums_sum += min(nums[i], nums[i + 1])\n",
    "    return nums_sum"
   ]
  },
  {
   "cell_type": "code",
   "execution_count": 447,
   "id": "130a9eeb-4358-47c1-b058-a267a21a3abf",
   "metadata": {},
   "outputs": [
    {
     "name": "stdout",
     "output_type": "stream",
     "text": [
      "[1, 2, 3, 4]\n"
     ]
    },
    {
     "data": {
      "text/plain": [
       "4"
      ]
     },
     "execution_count": 447,
     "metadata": {},
     "output_type": "execute_result"
    }
   ],
   "source": [
    "nums = [1,4,3,2]\n",
    "arrayPairSum(nums)"
   ]
  },
  {
   "cell_type": "code",
   "execution_count": 448,
   "id": "0e5e511f-4fae-4d42-bfd4-c805c89e825b",
   "metadata": {},
   "outputs": [
    {
     "name": "stdout",
     "output_type": "stream",
     "text": [
      "[1, 2, 2, 5, 6, 6]\n"
     ]
    },
    {
     "data": {
      "text/plain": [
       "9"
      ]
     },
     "execution_count": 448,
     "metadata": {},
     "output_type": "execute_result"
    }
   ],
   "source": [
    "nums = [6,2,6,5,1,2]\n",
    "arrayPairSum(nums)"
   ]
  },
  {
   "cell_type": "markdown",
   "id": "5a13ebb0-db97-4a66-983c-2289a67c9ee2",
   "metadata": {},
   "source": [
    "### 15. 3Sum\n",
    "Given an integer array nums, return all the triplets [nums[i], nums[j], nums[k]] such that i != j, i != k, and j != k, and nums[i] + nums[j] + nums[k] == 0.\n",
    "\n",
    "Notice that the solution set must not contain duplicate triplets."
   ]
  },
  {
   "cell_type": "code",
   "execution_count": 631,
   "id": "ac080994-5e2d-4bce-ba1f-8f413721fb4e",
   "metadata": {},
   "outputs": [],
   "source": [
    "from itertools import combinations\n",
    "def threeSum(nums):\n",
    "    result=list(combinations(nums, 3))\n",
    "    result2= [list(r) for r in result if sum(r)==0]\n",
    "    for i in range (len(result2[:])):\n",
    "        for j in range(i+1, len(result2)):\n",
    "            if set(result2[i])==set(result2[j]):\n",
    "                result2.pop(i)\n",
    "    return result2"
   ]
  },
  {
   "cell_type": "code",
   "execution_count": 632,
   "id": "1ec95d1f-b72f-456f-86a8-2a0080804e09",
   "metadata": {},
   "outputs": [
    {
     "data": {
      "text/plain": [
       "[[-1, 2, -1], [0, 1, -1]]"
      ]
     },
     "execution_count": 632,
     "metadata": {},
     "output_type": "execute_result"
    }
   ],
   "source": [
    "# test 1\n",
    "nums = [-1,0,1,2,-1,-4]\n",
    "threeSum(nums)"
   ]
  },
  {
   "cell_type": "code",
   "execution_count": 544,
   "id": "eb61ba35-dda5-4fba-8ec9-3b46d8568fb1",
   "metadata": {},
   "outputs": [],
   "source": [
    "def threeSum(nums):\n",
    "  nums.sort()  # Сортируем массив, чтобы числа в массиве шли по возрастанию\n",
    "  res = []\n",
    "\n",
    "  for i in range(len(nums) - 2):\n",
    "    # Пропускаем одинаковые элементы, чтобы избежать дубликатов\n",
    "    if i > 0 and nums[i] == nums[i - 1]:\n",
    "      continue\n",
    "\n",
    "    left, right = i + 1, len(nums) - 1  # Два указателя: один в начале, другой в конце\n",
    "\n",
    "    while left < right:\n",
    "      total = nums[i] + nums[left] + nums[right]\n",
    "\n",
    "      if total == 0:\n",
    "        # поиск нужной комбинации\n",
    "        res.append([nums[i], nums[left], nums[right]])\n",
    "\n",
    "        # Пропускаем дубликаты для левого указателя\n",
    "        while left < right and nums[left] == nums[left + 1]:\n",
    "            left += 1\n",
    "        # Пропускаем дубликаты для правого указателя\n",
    "        while left < right and nums[right] == nums[right - 1]:\n",
    "            right\n",
    "        # Сдвигаем указатели\n",
    "        left += 1\n",
    "        right -= 1\n",
    "\n",
    "      elif total < 0:\n",
    "        left += 1  # Если сумма меньше 0, сдвигаем левый указатель вправо\n",
    "      else:\n",
    "        right -= 1  # Если сумма больше 0, сдвигаем правый указатель влево\n",
    "  return res"
   ]
  },
  {
   "cell_type": "markdown",
   "id": "0f374466-920d-4d71-aa4c-3f7d3564a04f",
   "metadata": {},
   "source": [
    "### 56. Merge Intervals\n",
    "Given an array of intervals where intervals[i] = [starti, endi], merge all overlapping intervals, and return an array of the non-overlapping intervals that cover all the intervals in the input."
   ]
  },
  {
   "cell_type": "code",
   "execution_count": 625,
   "id": "b8cb0c1b-38ce-48f6-ae13-ea4d8a550a8c",
   "metadata": {},
   "outputs": [],
   "source": [
    "def merge(intervals):\n",
    "    intervals.sort(key=lambda x: x[0])\n",
    "    result = [intervals[0]]\n",
    "    for i in range(1, len(intervals)):\n",
    "        if result[-1][0]<=intervals[i][0]<=result[-1][1]:\n",
    "            result[-1][0]=min(intervals[i][0], result[-1][0])\n",
    "            result[-1][1]=max(intervals[i][1], result[-1][1])\n",
    "        else:\n",
    "            result.append(intervals[i])\n",
    "    return result"
   ]
  },
  {
   "cell_type": "code",
   "execution_count": 626,
   "id": "eb113336-8082-481f-b2f5-7f18a11cd378",
   "metadata": {},
   "outputs": [
    {
     "data": {
      "text/plain": [
       "[[1, 6], [8, 10], [15, 18]]"
      ]
     },
     "execution_count": 626,
     "metadata": {},
     "output_type": "execute_result"
    }
   ],
   "source": [
    "intervals = [[1,3],[2,6],[8,10],[15,18]]\n",
    "merge(intervals)"
   ]
  },
  {
   "cell_type": "code",
   "execution_count": 627,
   "id": "00ff92b9-5df6-4720-b771-414915717d4d",
   "metadata": {},
   "outputs": [
    {
     "data": {
      "text/plain": [
       "[[1, 5]]"
      ]
     },
     "execution_count": 627,
     "metadata": {},
     "output_type": "execute_result"
    }
   ],
   "source": [
    "intervals = [[1,4],[4,5]]\n",
    "merge(intervals)"
   ]
  },
  {
   "cell_type": "code",
   "execution_count": 628,
   "id": "d30b8acf-b535-40c3-ba74-dbd6c1319b38",
   "metadata": {},
   "outputs": [
    {
     "data": {
      "text/plain": [
       "[[0, 4]]"
      ]
     },
     "execution_count": 628,
     "metadata": {},
     "output_type": "execute_result"
    }
   ],
   "source": [
    "intervals = [[1,4],[0,4]]\n",
    "merge(intervals)"
   ]
  },
  {
   "cell_type": "code",
   "execution_count": 629,
   "id": "8a72f243-9b96-4afe-98f0-e02855186312",
   "metadata": {},
   "outputs": [
    {
     "data": {
      "text/plain": [
       "[[0, 4]]"
      ]
     },
     "execution_count": 629,
     "metadata": {},
     "output_type": "execute_result"
    }
   ],
   "source": [
    "intervals = [[1,4],[0,1]]\n",
    "merge(intervals)"
   ]
  },
  {
   "cell_type": "code",
   "execution_count": 630,
   "id": "0ebcce9e-c4e4-4b4a-817c-6f3a66c71de4",
   "metadata": {},
   "outputs": [
    {
     "data": {
      "text/plain": [
       "[[0, 0], [1, 4]]"
      ]
     },
     "execution_count": 630,
     "metadata": {},
     "output_type": "execute_result"
    }
   ],
   "source": [
    "intervals = [[1,4],[0,0]]\n",
    "merge(intervals)"
   ]
  },
  {
   "cell_type": "markdown",
   "id": "698cf422-01a3-447d-b2cb-dc62bae91ce4",
   "metadata": {},
   "source": [
    "### 148. Sort List\n",
    "Given the head of a linked list, return the list after sorting it in ascending order."
   ]
  },
  {
   "cell_type": "code",
   "execution_count": null,
   "id": "6cabc07d-e3cc-46f1-a88f-00c95b626ceb",
   "metadata": {},
   "outputs": [],
   "source": [
    "class ListNode:\n",
    "    def __init__(self, val=0, next=None):\n",
    "        self.val = val\n",
    "        self.next = next\n",
    "        \n",
    "class Solution:\n",
    "    def sortList(self, head):\n",
    "\n",
    "        "
   ]
  },
  {
   "cell_type": "code",
   "execution_count": null,
   "id": "b05511ac-4be9-4b10-b25e-91d202d6d303",
   "metadata": {},
   "outputs": [],
   "source": [
    "head = [4,2,1,3]"
   ]
  }
 ],
 "metadata": {
  "kernelspec": {
   "display_name": "Python 3 (ipykernel)",
   "language": "python",
   "name": "python3"
  },
  "language_info": {
   "codemirror_mode": {
    "name": "ipython",
    "version": 3
   },
   "file_extension": ".py",
   "mimetype": "text/x-python",
   "name": "python",
   "nbconvert_exporter": "python",
   "pygments_lexer": "ipython3",
   "version": "3.11.7"
  }
 },
 "nbformat": 4,
 "nbformat_minor": 5
}
