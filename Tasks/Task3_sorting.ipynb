{
 "cells": [
  {
   "cell_type": "markdown",
   "id": "cb0b87bc-4166-4251-ace7-d672abfdcae3",
   "metadata": {},
   "source": [
    "## Task3_1 88. Merge Sorted Array\n",
    "You are given two integer arrays nums1 and nums2, sorted in non-decreasing order, and two integers m and n, representing the number of elements in nums1 and nums2 respectively.\n",
    "\n",
    "Merge nums1 and nums2 into a single array sorted in non-decreasing order.\n",
    "\n",
    "The final sorted array should not be returned by the function, but instead be stored inside the array nums1. To accommodate this, nums1 has a length of m + n, where the first m elements denote the elements that should be merged, and the last n elements are set to 0 and should be ignored. nums2 has a length of n."
   ]
  },
  {
   "cell_type": "code",
   "execution_count": 405,
   "id": "407d18e0-1b54-4fb6-b448-043940f62fd5",
   "metadata": {},
   "outputs": [],
   "source": [
    "def merge(nums1, m, nums2, n):\n",
    "    if m==0:\n",
    "        nums1=nums2\n",
    "    else:\n",
    "        #идем по nums2, если сразу он больше nums1, сразу вставляем в конец, 0 убираем\n",
    "        for i in range(n):\n",
    "            if nums2[i]>nums1[m-1]:\n",
    "                nums1.insert(m+1, nums2[i])\n",
    "                nums1.pop()\n",
    "                m+=1                \n",
    "            #идем по nums1\n",
    "            for j in range(len(nums1)): \n",
    "                #сравниваем\n",
    "                if nums2[i]>nums1[j] and j<=m-1:\n",
    "                    continue\n",
    "                    #вставляем, убираем 0 с конца\n",
    "                else:\n",
    "                    nums1.insert(j, nums2[i])\n",
    "                    nums1.pop()\n",
    "                    break\n",
    "    return nums1\n",
    "                "
   ]
  },
  {
   "cell_type": "code",
   "execution_count": 406,
   "id": "cfdcbd0d-a8eb-456e-845a-255bc706ac82",
   "metadata": {},
   "outputs": [
    {
     "data": {
      "text/plain": [
       "[1]"
      ]
     },
     "execution_count": 406,
     "metadata": {},
     "output_type": "execute_result"
    }
   ],
   "source": [
    "# Example 3:\n",
    "nums1 = [0]\n",
    "m = 0\n",
    "nums2 = [1]\n",
    "n = 1\n",
    "merge(nums1, m, nums2, n)"
   ]
  },
  {
   "cell_type": "code",
   "execution_count": 402,
   "id": "ae58684c-31f6-4cfe-a910-53c14375afbc",
   "metadata": {},
   "outputs": [
    {
     "data": {
      "text/plain": [
       "[1, 2, 3, 4, 5, 6]"
      ]
     },
     "execution_count": 402,
     "metadata": {},
     "output_type": "execute_result"
    }
   ],
   "source": [
    "# Example 3:\n",
    "nums1 = [4,5,6,0,0,0]\n",
    "m = 3\n",
    "nums2 = [1,2,3]\n",
    "n = 3\n",
    "\n",
    "merge(nums1, m, nums2, n)"
   ]
  },
  {
   "cell_type": "code",
   "execution_count": 403,
   "id": "f452c8ad-0abf-4317-b66f-67216c35d9bc",
   "metadata": {
    "scrolled": true
   },
   "outputs": [
    {
     "data": {
      "text/plain": [
       "[1, 2, 2, 3, 5, 6]"
      ]
     },
     "execution_count": 403,
     "metadata": {},
     "output_type": "execute_result"
    }
   ],
   "source": [
    "#### Example 1:\n",
    "\n",
    "nums1 =[1,2,3,0,0,0]\n",
    "m = 3\n",
    "nums2 = [2,5,6]\n",
    "n = 3\n",
    "#Output: [1,2,2,3,5,6]\n",
    "merge(nums1, m, nums2, n)\n"
   ]
  },
  {
   "cell_type": "code",
   "execution_count": 404,
   "id": "02efc6d0-a1a8-4c9a-8ba3-105c40a0db29",
   "metadata": {},
   "outputs": [
    {
     "data": {
      "text/plain": [
       "[1]"
      ]
     },
     "execution_count": 404,
     "metadata": {},
     "output_type": "execute_result"
    }
   ],
   "source": [
    "# Example 2:\n",
    "nums1 = [1]\n",
    "m = 1\n",
    "nums2 = []\n",
    "n = 0\n",
    "merge(nums1, m, nums2, n)"
   ]
  },
  {
   "cell_type": "code",
   "execution_count": 418,
   "id": "ed28cf51-a726-4e25-a2c7-909c1d8155a9",
   "metadata": {},
   "outputs": [],
   "source": [
    "def merge(nums1, m, nums2, n):\n",
    "    # Указатели для конца значимых элементов в nums1 и nums2\n",
    "    i = m - 1\n",
    "    j = n - 1\n",
    "    # Указатель для конца итогового массива в nums1\n",
    "    k = m + n - 1\n",
    "\n",
    "    # Сравниваем и перемещаем элементы с конца\n",
    "    while i >= 0 and j >= 0:\n",
    "        if nums1[i] > nums2[j]:\n",
    "            nums1[k] = nums1[i]\n",
    "            i -= 1\n",
    "        else:\n",
    "            nums1[k] = nums2[j]\n",
    "            j -= 1\n",
    "        k -= 1\n",
    "    print(nums1)      \n",
    "    print(nums2)    \n",
    "\n",
    "    # Если остались элементы в nums2, копируем их в nums1\n",
    "    while j >= 0:\n",
    "        nums1[k] = nums2[j]\n",
    "        j -= 1\n",
    "        k -= 1\n",
    "    return nums1"
   ]
  },
  {
   "cell_type": "markdown",
   "id": "d01fef38-59e7-4efe-ad65-64aac4b21fad",
   "metadata": {},
   "source": [
    "### Task 3_2 \n",
    "Given an array nums containing n distinct numbers in the range [0, n], return the only number in the range that is missing from the array."
   ]
  },
  {
   "cell_type": "code",
   "execution_count": 437,
   "id": "6754b6fb-8bd5-4eab-ad45-e55547fe81e9",
   "metadata": {},
   "outputs": [],
   "source": [
    "def missingNumber(nums):\n",
    "    return [x for x in range(len(nums)+1) if x not in nums][0]"
   ]
  },
  {
   "cell_type": "code",
   "execution_count": 438,
   "id": "9400fd78-37d9-4e59-8e2f-4afb6eb7d01e",
   "metadata": {},
   "outputs": [
    {
     "data": {
      "text/plain": [
       "2"
      ]
     },
     "execution_count": 438,
     "metadata": {},
     "output_type": "execute_result"
    }
   ],
   "source": [
    "nums = [3,0,1]\n",
    "missingNumber(nums)"
   ]
  },
  {
   "cell_type": "code",
   "execution_count": 439,
   "id": "f6a72f78-0a53-4235-99df-c024326be629",
   "metadata": {},
   "outputs": [
    {
     "data": {
      "text/plain": [
       "2"
      ]
     },
     "execution_count": 439,
     "metadata": {},
     "output_type": "execute_result"
    }
   ],
   "source": [
    "nums = [0,1]\n",
    "missingNumber(nums)"
   ]
  },
  {
   "cell_type": "code",
   "execution_count": 440,
   "id": "9debf576-befd-4c35-887e-457f7557ac0f",
   "metadata": {},
   "outputs": [
    {
     "data": {
      "text/plain": [
       "8"
      ]
     },
     "execution_count": 440,
     "metadata": {},
     "output_type": "execute_result"
    }
   ],
   "source": [
    "nums = [9,6,4,2,3,5,7,0,1]\n",
    "missingNumber(nums)"
   ]
  },
  {
   "cell_type": "markdown",
   "id": "7c683c7b-3b3f-43d8-8379-c092ccb4dda4",
   "metadata": {},
   "source": [
    "### 561. Array Partition\n",
    "Given an integer array nums of 2n integers, group these integers into n pairs (a1, b1), (a2, b2), ..., (an, bn) such that the sum of min(ai, bi) for all i is maximized. Return the maximized sum."
   ]
  },
  {
   "cell_type": "code",
   "execution_count": 446,
   "id": "f0126527-2e05-462d-9a2e-a956cc46935d",
   "metadata": {},
   "outputs": [],
   "source": [
    "def arrayPairSum(nums):\n",
    "    nums.sort()\n",
    "    print(nums)\n",
    "    nums_sum = 0\n",
    "    for i in range(0, len(nums), 2):\n",
    "        nums_sum += min(nums[i], nums[i + 1])\n",
    "    return nums_sum"
   ]
  },
  {
   "cell_type": "code",
   "execution_count": 447,
   "id": "130a9eeb-4358-47c1-b058-a267a21a3abf",
   "metadata": {},
   "outputs": [
    {
     "name": "stdout",
     "output_type": "stream",
     "text": [
      "[1, 2, 3, 4]\n"
     ]
    },
    {
     "data": {
      "text/plain": [
       "4"
      ]
     },
     "execution_count": 447,
     "metadata": {},
     "output_type": "execute_result"
    }
   ],
   "source": [
    "nums = [1,4,3,2]\n",
    "arrayPairSum(nums)"
   ]
  },
  {
   "cell_type": "code",
   "execution_count": 448,
   "id": "0e5e511f-4fae-4d42-bfd4-c805c89e825b",
   "metadata": {},
   "outputs": [
    {
     "name": "stdout",
     "output_type": "stream",
     "text": [
      "[1, 2, 2, 5, 6, 6]\n"
     ]
    },
    {
     "data": {
      "text/plain": [
       "9"
      ]
     },
     "execution_count": 448,
     "metadata": {},
     "output_type": "execute_result"
    }
   ],
   "source": [
    "nums = [6,2,6,5,1,2]\n",
    "arrayPairSum(nums)"
   ]
  },
  {
   "cell_type": "code",
   "execution_count": null,
   "id": "9b1fab67-0b16-48da-b2ce-b1b9ed83eb3c",
   "metadata": {},
   "outputs": [],
   "source": []
  }
 ],
 "metadata": {
  "kernelspec": {
   "display_name": "Python 3 (ipykernel)",
   "language": "python",
   "name": "python3"
  },
  "language_info": {
   "codemirror_mode": {
    "name": "ipython",
    "version": 3
   },
   "file_extension": ".py",
   "mimetype": "text/x-python",
   "name": "python",
   "nbconvert_exporter": "python",
   "pygments_lexer": "ipython3",
   "version": "3.11.7"
  }
 },
 "nbformat": 4,
 "nbformat_minor": 5
}
