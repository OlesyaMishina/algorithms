{
 "cells": [
  {
   "cell_type": "markdown",
   "id": "f69e1031-d38e-4482-87f4-ed305732dcfd",
   "metadata": {},
   "source": [
    "### T1-1\n",
    "\n",
    "58. Length of Last Word\n",
    "Easy\n",
    "Topics\n",
    "Companies\n",
    "Given a string s consisting of words and spaces, return the length of the last word in the string.\n",
    "\n",
    "A word is a maximal \n",
    "substring  consisting of non-space characters only."
   ]
  },
  {
   "cell_type": "code",
   "execution_count": 15,
   "id": "229b6dc9-15af-4737-96fd-da9557703b9e",
   "metadata": {},
   "outputs": [],
   "source": [
    "def lengthOfLastWord(s):\n",
    "    if len(s.split())>1:\n",
    "        return len(s.split()[-1])\n",
    "    else:\n",
    "        return len(s)"
   ]
  },
  {
   "cell_type": "code",
   "execution_count": 16,
   "id": "a5b39942-d726-43d8-a3b2-30e674ec7ba3",
   "metadata": {},
   "outputs": [
    {
     "name": "stdout",
     "output_type": "stream",
     "text": [
      "5\n"
     ]
    }
   ],
   "source": [
    "#Example 1:\n",
    "s = \"Hello World\"\n",
    "print(lengthOfLastWord(s))"
   ]
  },
  {
   "cell_type": "code",
   "execution_count": 17,
   "id": "3c0d62c5-fbc9-4d91-a5ad-625c8df21c6d",
   "metadata": {},
   "outputs": [
    {
     "name": "stdout",
     "output_type": "stream",
     "text": [
      "4\n"
     ]
    }
   ],
   "source": [
    "#Example 2:\n",
    "s = \"   fly me   to   the moon  \"\n",
    "print(lengthOfLastWord(s))"
   ]
  },
  {
   "cell_type": "code",
   "execution_count": 18,
   "id": "50b21948-1c4a-4b69-8ac4-44810adc6ce7",
   "metadata": {},
   "outputs": [
    {
     "name": "stdout",
     "output_type": "stream",
     "text": [
      "6\n"
     ]
    }
   ],
   "source": [
    "#Example 3:\n",
    "s = \"luffy is still joyboy\"\n",
    "print(lengthOfLastWord(s))"
   ]
  },
  {
   "cell_type": "markdown",
   "id": "bbba48ed-d39e-4563-9912-967f6ded2643",
   "metadata": {},
   "source": [
    "### T1-2\n",
    "482. License Key Formatting\n",
    "Easy\n",
    "Topics\n",
    "Companies\n",
    "You are given a license key represented as a string s that consists of only alphanumeric characters and dashes. The string is separated into n + 1 groups by n dashes. You are also given an integer k.\n",
    "\n",
    "We want to reformat the string s such that each group contains exactly k characters, except for the first group, which could be shorter than k but still must contain at least one character. Furthermore, there must be a dash inserted between two groups, and you should convert all lowercase letters to uppercase.\n",
    "\n",
    "Return the reformatted license key."
   ]
  },
  {
   "cell_type": "code",
   "execution_count": 154,
   "id": "ec5fe56d-d8aa-46d6-a50d-322a4d2ab154",
   "metadata": {},
   "outputs": [],
   "source": [
    "def licenseKeyFormatting(s, k):\n",
    "    #убираем -\n",
    "    s=s.replace('-', '')\n",
    "    #массив нового ключа\n",
    "    new_key = []\n",
    "    #если длина строки не кратна k, записываем остаток на первое место\n",
    "    if len(s)%k!=0:\n",
    "        new_key.append(s[:len(s)%k].upper())\n",
    "    #начало старта в строке\n",
    "    start = len(s)%k\n",
    "    for start in range(start, len(s), k):\n",
    "        #добавляем  в массив по k элементов из строки\n",
    "        new_key.append(s[start: start +k].upper())\n",
    "\n",
    "    print('-'.join(new_key))\n",
    "    "
   ]
  },
  {
   "cell_type": "code",
   "execution_count": 155,
   "id": "00b17158-20fa-4638-95a1-a4f77ec6bb9b",
   "metadata": {},
   "outputs": [
    {
     "name": "stdout",
     "output_type": "stream",
     "text": [
      "5F3Z-2E9W\n"
     ]
    }
   ],
   "source": [
    "s = \"5F3Z-2e-9-w\"\n",
    "k = 4\n",
    "licenseKeyFormatting(s, k)\n",
    "#Output: \"5F3Z-2E9W\""
   ]
  },
  {
   "cell_type": "code",
   "execution_count": 121,
   "id": "e66759cf-f486-4c78-882a-ac0d2dcda307",
   "metadata": {},
   "outputs": [
    {
     "name": "stdout",
     "output_type": "stream",
     "text": [
      "2-5G-3J\n"
     ]
    }
   ],
   "source": [
    "#Example 2:\n",
    "\n",
    "s = \"2-5g-3-J\"\n",
    "k = 2\n",
    "licenseKeyFormatting(s, k)\n",
    "#Output: \"2-5G-3J\""
   ]
  },
  {
   "cell_type": "markdown",
   "id": "1fe16787-643c-477b-ab6b-3def6e399bb3",
   "metadata": {},
   "source": [
    "### T1-3\n",
    "796. Rotate String\n",
    "Easy\n",
    "Topics\n",
    "Companies\n",
    "Given two strings s and goal, return true if and only if s can become goal after some number of shifts on s.\n",
    "\n",
    "A shift on s consists of moving the leftmost character of s to the rightmost position.\n",
    "\n",
    "For example, if s = \"abcde\", then it will be \"bcdea\" after one shift."
   ]
  },
  {
   "cell_type": "code",
   "execution_count": 149,
   "id": "3ce87ad5-acbf-472c-b86b-fada191b334e",
   "metadata": {},
   "outputs": [],
   "source": [
    "def rotateString(s, goal):\n",
    "    flag = False\n",
    "    for _ in range(len(s)):\n",
    "        s=s[1:]+s[0]\n",
    "        if s==goal:\n",
    "            flag = True\n",
    "    return str(flag).lower()\n",
    "        \n",
    "        "
   ]
  },
  {
   "cell_type": "code",
   "execution_count": 150,
   "id": "94cf8f9e-ab96-4f07-9ba3-cd3229cda403",
   "metadata": {},
   "outputs": [
    {
     "data": {
      "text/plain": [
       "'true'"
      ]
     },
     "execution_count": 150,
     "metadata": {},
     "output_type": "execute_result"
    }
   ],
   "source": [
    "#Example 1:\n",
    "s = \"abcde\"\n",
    "goal = \"cdeab\"\n",
    "rotateString(s, goal)"
   ]
  },
  {
   "cell_type": "code",
   "execution_count": 151,
   "id": "32e48cb5-b47c-4326-8aad-50185c0f78ef",
   "metadata": {},
   "outputs": [
    {
     "data": {
      "text/plain": [
       "'false'"
      ]
     },
     "execution_count": 151,
     "metadata": {},
     "output_type": "execute_result"
    }
   ],
   "source": [
    "#Example 2:\n",
    "s = \"abcde\"\n",
    "goal = \"abced\"\n",
    "rotateString(s, goal)"
   ]
  },
  {
   "cell_type": "code",
   "execution_count": null,
   "id": "1a9da95d-7cf3-4d7a-81b6-a15a702665cc",
   "metadata": {},
   "outputs": [],
   "source": []
  }
 ],
 "metadata": {
  "kernelspec": {
   "display_name": "Python 3 (ipykernel)",
   "language": "python",
   "name": "python3"
  },
  "language_info": {
   "codemirror_mode": {
    "name": "ipython",
    "version": 3
   },
   "file_extension": ".py",
   "mimetype": "text/x-python",
   "name": "python",
   "nbconvert_exporter": "python",
   "pygments_lexer": "ipython3",
   "version": "3.11.7"
  }
 },
 "nbformat": 4,
 "nbformat_minor": 5
}
