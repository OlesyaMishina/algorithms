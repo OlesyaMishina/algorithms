{
 "cells": [
  {
   "cell_type": "markdown",
   "id": "9de4dcb5-9e67-44ea-a753-307f4c9351ab",
   "metadata": {},
   "source": [
    "''1. Two Sum\n",
    "Easy\n",
    "Given an array of integers nums and an integer target, return indices of the two numbers such that they add up to target.\n",
    "You may assume that each input would have exactly one solution, and you may not use the same element twice.\n",
    "You can return the answer in any order.\n",
    "\n",
    "Example 1:\n",
    "\n",
    "Input: nums = [2,7,11,15], target = 9\n",
    "Output: [0,1]\n",
    "Explanation: Because nums[0] + nums[1] == 9, we return [0, 1].\n",
    "Example 2:\n",
    "\n",
    "Input: nums = [3,2,4], target = 6\n",
    "Output: [1,2]\n",
    "Example 3:\n",
    "\n",
    "Input: nums = [3,3], target = 6\n",
    "Output: [0,1]\n",
    "\n",
    "\n",
    "Constraints:\n",
    "2 <= nums.length <= 104\n",
    "-109 <= nums[i] <= 109\n",
    "-109 <= target <= 109\n",
    "Only one valid answer exists.\n",
    "\n",
    "Follow-up: Can you come up with an algorithm that is less than O(n2) time complexity?'''"
   ]
  },
  {
   "cell_type": "code",
   "execution_count": 11,
   "id": "84b5c588-4351-4978-ad1a-080be5f83526",
   "metadata": {},
   "outputs": [],
   "source": [
    "def twoSum(nums, target):\n",
    "    #сюда записываем число (ключ) и его индекс(значение)\n",
    "    result = {}\n",
    "    #идем по числам\n",
    "    for i, num in enumerate(nums):\n",
    "        #считаем разницу текущего числа с целевым\n",
    "        difference = target - num\n",
    "        #если эта разница уже присутствует в result\n",
    "        if difference in result:\n",
    "            #возвращаем ее индекс, а так же индекс текущего числа\n",
    "            return [result[difference], i]\n",
    "        #записываем текущее число в результат\n",
    "        result[num] = i\n",
    "    #возвращаем пустой массив если не нашли искомуе числа\n",
    "    return []\n"
   ]
  },
  {
   "cell_type": "code",
   "execution_count": 12,
   "id": "c2a5c101-f175-4703-8238-7f04e9f86285",
   "metadata": {},
   "outputs": [
    {
     "name": "stdout",
     "output_type": "stream",
     "text": [
      "[0, 1]\n"
     ]
    }
   ],
   "source": [
    "#test1\n",
    "nums = [2,7,11,15]\n",
    "target = 9\n",
    "print(twoSum(nums, target))"
   ]
  },
  {
   "cell_type": "code",
   "execution_count": 13,
   "id": "d5334132-e908-4534-9c18-21a7dafb520a",
   "metadata": {},
   "outputs": [
    {
     "name": "stdout",
     "output_type": "stream",
     "text": [
      "[1, 2]\n"
     ]
    }
   ],
   "source": [
    "#test2\n",
    "nums = [3,2,4]\n",
    "target = 6\n",
    "print(twoSum(nums, target))"
   ]
  },
  {
   "cell_type": "code",
   "execution_count": 14,
   "id": "6fa87970-486c-4dfd-85ab-0d941465bd9d",
   "metadata": {},
   "outputs": [
    {
     "name": "stdout",
     "output_type": "stream",
     "text": [
      "[0, 1]\n"
     ]
    }
   ],
   "source": [
    "#test3\n",
    "nums = [3,3]\n",
    "target = 6\n",
    "print(twoSum(nums, target))"
   ]
  },
  {
   "cell_type": "code",
   "execution_count": null,
   "id": "0af1c342-ff95-49ef-b624-33ed611da64f",
   "metadata": {},
   "outputs": [],
   "source": []
  }
 ],
 "metadata": {
  "kernelspec": {
   "display_name": "Python 3 (ipykernel)",
   "language": "python",
   "name": "python3"
  },
  "language_info": {
   "codemirror_mode": {
    "name": "ipython",
    "version": 3
   },
   "file_extension": ".py",
   "mimetype": "text/x-python",
   "name": "python",
   "nbconvert_exporter": "python",
   "pygments_lexer": "ipython3",
   "version": "3.11.7"
  }
 },
 "nbformat": 4,
 "nbformat_minor": 5
}
