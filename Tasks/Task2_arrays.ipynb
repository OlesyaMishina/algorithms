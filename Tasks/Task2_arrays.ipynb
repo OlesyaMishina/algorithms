{
 "cells": [
  {
   "cell_type": "markdown",
   "id": "c44b275c-71c9-40d2-99bc-96e33e0d6442",
   "metadata": {},
   "source": [
    "### T_2.1 \n",
    "Given an integer array nums and an integer val, remove all occurrences of val in nums in-place. The order of the elements may be changed. Then return the number of elements in nums which are not equal to val.\n",
    "\n",
    "Consider the number of elements in nums which are not equal to val be k, to get accepted, you need to do the following things:\n",
    "\n",
    "Change the array nums such that the first k elements of nums contain the elements which are not equal to val. The remaining elements of nums are not important as well as the size of nums.\n",
    "Return k."
   ]
  },
  {
   "cell_type": "code",
   "execution_count": 46,
   "id": "e357478b-8258-4b2a-a882-c54dc943faf0",
   "metadata": {},
   "outputs": [],
   "source": [
    "def removeElement(nums, val):\n",
    "    count_val = nums.count(val)\n",
    "    for _ in range(count_val):\n",
    "        nums.remove(val)\n",
    "        nums.append(val)\n",
    "    return len(nums)-count_val\n"
   ]
  },
  {
   "cell_type": "code",
   "execution_count": 48,
   "id": "bdeab442-533f-4fad-aac9-a57b3ec8a604",
   "metadata": {},
   "outputs": [
    {
     "data": {
      "text/plain": [
       "2"
      ]
     },
     "execution_count": 48,
     "metadata": {},
     "output_type": "execute_result"
    }
   ],
   "source": [
    "#Example 1:\n",
    "nums = [3,2,2,3] \n",
    "val = 3\n",
    "removeElement(nums, val)"
   ]
  },
  {
   "cell_type": "code",
   "execution_count": 49,
   "id": "67f99e94-3fb0-45cc-9dda-6e2bdaec4112",
   "metadata": {},
   "outputs": [
    {
     "data": {
      "text/plain": [
       "5"
      ]
     },
     "execution_count": 49,
     "metadata": {},
     "output_type": "execute_result"
    }
   ],
   "source": [
    "#Example 1:\n",
    "nums = [0,1,2,2,3,0,4,2]\n",
    "val = 2\n",
    "removeElement(nums, val)"
   ]
  },
  {
   "cell_type": "markdown",
   "id": "29731276-d109-440e-9366-f174881c2a5d",
   "metadata": {},
   "source": [
    "### T2_2\n",
    "26. Remove Duplicates from Sorted Array\n",
    "Given an integer array nums sorted in non-decreasing order, remove the duplicates in-place such that each unique element appears only once. The relative order of the elements should be kept the same. Then return the number of unique elements in nums.\n",
    "\n",
    "Consider the number of unique elements of nums to be k, to get accepted, you need to do the following things:\n",
    "\n",
    "Change the array nums such that the first k elements of nums contain the unique elements in the order they were present in nums initially. The remaining elements of nums are not important as well as the size of nums.\n",
    "Return k."
   ]
  },
  {
   "cell_type": "code",
   "execution_count": 63,
   "id": "8b361418-cc8a-4ce3-b0ed-fd3472638637",
   "metadata": {},
   "outputs": [],
   "source": [
    "def removeDuplicates(nums):\n",
    "    print (list(set(nums)))\n",
    "    return(len(set(nums)))"
   ]
  },
  {
   "cell_type": "code",
   "execution_count": 64,
   "id": "79d201a5-0735-4781-a6fb-16e5a2f48023",
   "metadata": {},
   "outputs": [
    {
     "name": "stdout",
     "output_type": "stream",
     "text": [
      "[1, 2]\n"
     ]
    },
    {
     "data": {
      "text/plain": [
       "2"
      ]
     },
     "execution_count": 64,
     "metadata": {},
     "output_type": "execute_result"
    }
   ],
   "source": [
    "#Example 1:\n",
    "nums = [1,1,2]\n",
    "\n",
    "removeDuplicates(nums)"
   ]
  },
  {
   "cell_type": "code",
   "execution_count": 65,
   "id": "f4808f8b-4d80-4344-a3e5-ad069dd4c870",
   "metadata": {},
   "outputs": [
    {
     "name": "stdout",
     "output_type": "stream",
     "text": [
      "[0, 1, 2, 3, 4]\n"
     ]
    },
    {
     "data": {
      "text/plain": [
       "5"
      ]
     },
     "execution_count": 65,
     "metadata": {},
     "output_type": "execute_result"
    }
   ],
   "source": [
    "#Example 2:\n",
    "nums = [0,0,1,1,1,2,2,3,3,4]\n",
    "removeDuplicates(nums)"
   ]
  },
  {
   "cell_type": "markdown",
   "id": "16325871-1008-413e-97b0-8b1b448d4475",
   "metadata": {},
   "source": [
    "### T2_3\n",
    "66. Plus One\n",
    "You are given a large integer represented as an integer array digits, where each digits[i] is the ith digit of the integer. The digits are ordered from most significant to least significant in left-to-right order. The large integer does not contain any leading 0's.\n",
    "\n",
    "Increment the large integer by one and return the resulting array of digits."
   ]
  },
  {
   "cell_type": "code",
   "execution_count": 73,
   "id": "437b12c7-36df-4c04-9b75-2fc06296f0ca",
   "metadata": {},
   "outputs": [],
   "source": [
    "def plusOne(digits):\n",
    "    num = int(''.join([str(d) for d in digits]))\n",
    "    return [s for s in str(num+1)]\n",
    "    \n",
    "    "
   ]
  },
  {
   "cell_type": "code",
   "execution_count": 74,
   "id": "404c6e3a-efa7-42ae-b07f-b500a44840c0",
   "metadata": {},
   "outputs": [
    {
     "data": {
      "text/plain": [
       "['1', '2', '4']"
      ]
     },
     "execution_count": 74,
     "metadata": {},
     "output_type": "execute_result"
    }
   ],
   "source": [
    "#Example 1:\n",
    "digits = [1,2,3]\n",
    "plusOne(digits)\n"
   ]
  },
  {
   "cell_type": "code",
   "execution_count": 75,
   "id": "28826d76-3f2f-448c-bf82-cd208ce1c5bb",
   "metadata": {},
   "outputs": [
    {
     "data": {
      "text/plain": [
       "['4', '3', '2', '2']"
      ]
     },
     "execution_count": 75,
     "metadata": {},
     "output_type": "execute_result"
    }
   ],
   "source": [
    "#Example 2: \n",
    "digits = [4,3,2,1]\n",
    "plusOne(digits)"
   ]
  },
  {
   "cell_type": "code",
   "execution_count": 76,
   "id": "6ed2adc3-a341-4a51-ad4e-204a76794bf9",
   "metadata": {},
   "outputs": [
    {
     "data": {
      "text/plain": [
       "['1', '0']"
      ]
     },
     "execution_count": 76,
     "metadata": {},
     "output_type": "execute_result"
    }
   ],
   "source": [
    "#Example 3: \n",
    "digits = [9]\n",
    "plusOne(digits)"
   ]
  },
  {
   "cell_type": "markdown",
   "id": "d823da41-0b52-43a8-84e2-6b1463d86363",
   "metadata": {},
   "source": [
    "### T2_4\n",
    "Given an integer array nums of unique elements, return all possible \n",
    "subsets\n",
    " (the power set).\n",
    "\n",
    "The solution set must not contain duplicate subsets. Return the solution in any order."
   ]
  },
  {
   "cell_type": "code",
   "execution_count": 140,
   "id": "a219ea07-0cd6-44ac-b2cb-bdea5e58f634",
   "metadata": {},
   "outputs": [],
   "source": [
    "from itertools import combinations\n",
    "def subsets(nums):\n",
    "    result=[]\n",
    "    for i in range (len(nums)+1):\n",
    "        result.append(list(combinations(nums, i)))\n",
    "    h1=[]\n",
    "    for i in range(len(result)):\n",
    "        for j in range(len(result[i])):\n",
    "            h1.append(list(result[i][j]))   \n",
    "    return (h1)\n",
    "    \n",
    "    \n",
    "    "
   ]
  },
  {
   "cell_type": "code",
   "execution_count": 141,
   "id": "747595f1-c2e7-4203-a6f9-0447d8dff8e6",
   "metadata": {},
   "outputs": [
    {
     "data": {
      "text/plain": [
       "[[], [1], [2], [3], [1, 2], [1, 3], [2, 3], [1, 2, 3]]"
      ]
     },
     "execution_count": 141,
     "metadata": {},
     "output_type": "execute_result"
    }
   ],
   "source": [
    "#Example 1:\n",
    "nums = [1,2,3]\n",
    "subsets(nums)"
   ]
  },
  {
   "cell_type": "code",
   "execution_count": 142,
   "id": "9a541549-7464-4357-aafc-9f0e491e05a1",
   "metadata": {},
   "outputs": [
    {
     "data": {
      "text/plain": [
       "[[], [0]]"
      ]
     },
     "execution_count": 142,
     "metadata": {},
     "output_type": "execute_result"
    }
   ],
   "source": [
    "#Example 2:\n",
    "nums = [0]\n",
    "subsets(nums)"
   ]
  },
  {
   "cell_type": "markdown",
   "id": "a69dcb5f-2361-4855-a551-a4cd58f889c1",
   "metadata": {},
   "source": [
    "### T2-5\n",
    "Given an integer array nums, return all the triplets [nums[i], nums[j], nums[k]] such that i != j, i != k, and j != k, and nums[i] + nums[j] + nums[k] == 0.\n",
    "\n",
    "Notice that the solution set must not contain duplicate triplets.\n",
    "\n",
    " "
   ]
  },
  {
   "cell_type": "code",
   "execution_count": 179,
   "id": "a0b58993-07d1-4337-a298-c05923d65ee0",
   "metadata": {},
   "outputs": [],
   "source": [
    "def threeSum(nums):\n",
    "    result=list(combinations(nums, 3))\n",
    "    result2 = [list(result[i]) for i in range(len(result)) if sum(result[i])==0]\n",
    "    for i in range (len(result2)):\n",
    "        for j in range(i+1, len(result2)):\n",
    "            if set(res[i])==set(res[j]):\n",
    "                result2.pop(i)\n",
    "    return result2"
   ]
  },
  {
   "cell_type": "code",
   "execution_count": 180,
   "id": "6652ca0e-7320-4423-b2c9-c84b1833f199",
   "metadata": {},
   "outputs": [
    {
     "data": {
      "text/plain": [
       "[[-1, 2, -1], [0, 1, -1]]"
      ]
     },
     "execution_count": 180,
     "metadata": {},
     "output_type": "execute_result"
    }
   ],
   "source": [
    "#Example 1:\n",
    "nums = [-1,0,1,2,-1,-4]\n",
    "threeSum(nums)"
   ]
  },
  {
   "cell_type": "code",
   "execution_count": 181,
   "id": "1e42e594-d905-45ff-b92e-0bd483a5c268",
   "metadata": {},
   "outputs": [
    {
     "data": {
      "text/plain": [
       "[[0, 0, 0]]"
      ]
     },
     "execution_count": 181,
     "metadata": {},
     "output_type": "execute_result"
    }
   ],
   "source": [
    "nums = [0,0,0]\n",
    "threeSum(nums)"
   ]
  },
  {
   "cell_type": "code",
   "execution_count": 182,
   "id": "28f03822-1f3f-4727-bcf6-d045103d2487",
   "metadata": {},
   "outputs": [
    {
     "data": {
      "text/plain": [
       "[]"
      ]
     },
     "execution_count": 182,
     "metadata": {},
     "output_type": "execute_result"
    }
   ],
   "source": [
    "nums = [0,1,1]\n",
    "threeSum(nums)"
   ]
  },
  {
   "cell_type": "markdown",
   "id": "9ad8be11-a533-4ef7-b519-4aa7ad0e9213",
   "metadata": {},
   "source": [
    "### T2_6 \n",
    "48. Rotate Imageies\r\n",
    "You are given an n x n 2D matrix representing an image, rotate the image by 90 degrees (clockwise).\r\n",
    "\r\n",
    "You have to rotate the image in-place, which means you have to modify the input 2D matrix directly. DO NOT allocate another 2D matrix and do the rotation.\n"
   ]
  },
  {
   "cell_type": "code",
   "execution_count": 192,
   "id": "821a35b8-aa7e-45c8-acac-d28c4be24e3e",
   "metadata": {},
   "outputs": [],
   "source": [
    "def rotate(matrix):\n",
    "    for i in range(len(matrix)):\n",
    "        for j in range (i, len(matrix)):\n",
    "            matrix[i][j]=matrix[j][i]\n",
    "    for i in range(len(matrix)):\n",
    "        matrix[i].reverse()\n",
    "    return matrix\n"
   ]
  },
  {
   "cell_type": "code",
   "execution_count": 193,
   "id": "af2c5cfe-4979-40df-a55b-304631240971",
   "metadata": {},
   "outputs": [
    {
     "data": {
      "text/plain": [
       "[[7, 4, 1], [8, 5, 4], [9, 8, 7]]"
      ]
     },
     "execution_count": 193,
     "metadata": {},
     "output_type": "execute_result"
    }
   ],
   "source": [
    "#Example 1:\n",
    "matrix = [[1,2,3],[4,5,6],[7,8,9]]\n",
    "rotate(matrix)"
   ]
  },
  {
   "cell_type": "code",
   "execution_count": null,
   "id": "e0918513-5d89-4df6-bbf2-35baf07a7a72",
   "metadata": {},
   "outputs": [],
   "source": []
  }
 ],
 "metadata": {
  "kernelspec": {
   "display_name": "Python 3 (ipykernel)",
   "language": "python",
   "name": "python3"
  },
  "language_info": {
   "codemirror_mode": {
    "name": "ipython",
    "version": 3
   },
   "file_extension": ".py",
   "mimetype": "text/x-python",
   "name": "python",
   "nbconvert_exporter": "python",
   "pygments_lexer": "ipython3",
   "version": "3.11.7"
  }
 },
 "nbformat": 4,
 "nbformat_minor": 5
}
