{
 "cells": [
  {
   "cell_type": "markdown",
   "id": "976423ec-0659-4797-ac2f-216ecbc7718e",
   "metadata": {},
   "source": [
    "### T1_4 8. String to Integer (atoi)\n",
    "Medium\n",
    "Topics\n",
    "Companies\n",
    "Implement the myAtoi(string s) function, which converts a string to a 32-bit signed integer.\n",
    "\n",
    "The algorithm for myAtoi(string s) is as follows:\n",
    "\n",
    "Whitespace: Ignore any leading whitespace (\" \").\n",
    "Signedness: Determine the sign by checking if the next character is '-' or '+', assuming positivity is neither present.\n",
    "Conversion: Read the integer by skipping leading zeros until a non-digit character is encountered or the end of the string is reached. If no digits were read, then the result is 0.\n",
    "Rounding: If the integer is out of the 32-bit signed integer range [-231, 231 - 1], then round the integer to remain in the range. Specifically, integers less than -231 should be rounded to -231, and integers greater than 231 - 1 should be rounded to 231 - 1.\n",
    "Return the integer as the final result."
   ]
  },
  {
   "cell_type": "code",
   "execution_count": 32,
   "id": "09d1bf3a-0d2a-4618-8b6e-b3951f920d77",
   "metadata": {},
   "outputs": [],
   "source": [
    "def myAtoi(s):\n",
    "    min = -2**31\n",
    "    max = 2**31 - 1\n",
    "    #убираем пробелы\n",
    "    s=s.lstrip()\n",
    "    #сразу проверяем на первую букву, если буква возвращаем 0\n",
    "    if not s[0].isdigit() and s[0] not in ['+', '-']:\n",
    "        return 0\n",
    "    else:\n",
    "        #ищем есть ли знак, если есть, начинаем искать цифры с 1 индекса\n",
    "        start =0\n",
    "        if s[0] == '-' or s[0] == '+':\n",
    "            start = 1\n",
    "        #начиная со стартового индекса определяем, цифра или нет, если цифра, увеличиваем i\n",
    "        for i in range(start, len(s)):\n",
    "            if s[i].isdigit():\n",
    "                i+=1\n",
    "            #как только встречаем первую не цифру выходим из цикла\n",
    "            else:\n",
    "                break\n",
    "        #возвращаем переведенный в int срез по индексам от 0 до i\n",
    "        if int(s[0: i]) < min:\n",
    "            return min\n",
    "        elif int(s[0: i]) > max:\n",
    "            return max\n",
    "        else: \n",
    "            return int(s[0: i])\n",
    "\n",
    "        "
   ]
  },
  {
   "cell_type": "code",
   "execution_count": 33,
   "id": "86919b41-c7c2-4f7b-93a0-cd56b2003b09",
   "metadata": {},
   "outputs": [
    {
     "name": "stdout",
     "output_type": "stream",
     "text": [
      "42\n"
     ]
    }
   ],
   "source": [
    "#Example 1:\n",
    "s = \"42\"\n",
    "print(myAtoi(s))"
   ]
  },
  {
   "cell_type": "code",
   "execution_count": 34,
   "id": "a789ebf3-f66f-4695-9430-7fee29123fb9",
   "metadata": {},
   "outputs": [
    {
     "data": {
      "text/plain": [
       "-42"
      ]
     },
     "execution_count": 34,
     "metadata": {},
     "output_type": "execute_result"
    }
   ],
   "source": [
    "#Example 2:\n",
    "s = \" -042\"\n",
    "myAtoi(s)"
   ]
  },
  {
   "cell_type": "code",
   "execution_count": 35,
   "id": "9817a6fa-a6b4-4c63-8ce3-6ef1d9ba1a42",
   "metadata": {},
   "outputs": [
    {
     "data": {
      "text/plain": [
       "1337"
      ]
     },
     "execution_count": 35,
     "metadata": {},
     "output_type": "execute_result"
    }
   ],
   "source": [
    "#Example 3:\n",
    "s = \"1337c0d3\"\n",
    "myAtoi(s)"
   ]
  },
  {
   "cell_type": "code",
   "execution_count": 36,
   "id": "8b1835b3-8b6e-46ed-a1cf-77645fca860b",
   "metadata": {},
   "outputs": [
    {
     "data": {
      "text/plain": [
       "0"
      ]
     },
     "execution_count": 36,
     "metadata": {},
     "output_type": "execute_result"
    }
   ],
   "source": [
    "#Example 4:\n",
    "s = \"0-1\"\n",
    "myAtoi(s)"
   ]
  },
  {
   "cell_type": "code",
   "execution_count": 37,
   "id": "89420ea1-3bc9-479b-9fc9-d9c6c366c93e",
   "metadata": {},
   "outputs": [
    {
     "data": {
      "text/plain": [
       "0"
      ]
     },
     "execution_count": 37,
     "metadata": {},
     "output_type": "execute_result"
    }
   ],
   "source": [
    "#Example 5:\n",
    "s = \"words and 987\"\n",
    "myAtoi(s)"
   ]
  },
  {
   "cell_type": "code",
   "execution_count": 43,
   "id": "39004f2e-ac18-4595-a6e0-cde110a64fd8",
   "metadata": {},
   "outputs": [
    {
     "data": {
      "text/plain": [
       "0"
      ]
     },
     "execution_count": 43,
     "metadata": {},
     "output_type": "execute_result"
    }
   ],
   "source": [
    "s = \"+-1\"\n",
    "myAtoi(s)"
   ]
  },
  {
   "cell_type": "markdown",
   "id": "df58bfb8-be32-415f-8ccf-59ccdd53ddcd",
   "metadata": {},
   "source": [
    "### T1_4 306. Additive Number\n",
    "Medium\n",
    "Topics\n",
    "Companies\n",
    "An additive number is a string whose digits can form an additive sequence.\n",
    "\n",
    "A valid additive sequence should contain at least three numbers. Except for the first two numbers, each subsequent number in the sequence must be the sum of the preceding two.\n",
    "\n",
    "Given a string containing only digits, return true if it is an additive number or false otherwise.\n",
    "\n",
    "Note: Numbers in the additive sequence cannot have leading zeros, so sequence 1, 2, 03 or 1, 02, 3 is invalid."
   ]
  },
  {
   "cell_type": "code",
   "execution_count": 1016,
   "id": "6a5fd1b3-ccc8-42d7-aceb-0a93a368e739",
   "metadata": {},
   "outputs": [],
   "source": [
    "def isAdditiveNumber(num):\n",
    "    flag = False\n",
    "    if len(num)<3:\n",
    "        return str(flag).lower()\n",
    "    else:\n",
    "        for i in range(len(num)//3+2):\n",
    "            j=i+1\n",
    "            num1= int(num[0:j])\n",
    "            for j in range(j, len(num)//3+2):\n",
    "                num2= int(num[i+1:j+1])\n",
    "                if not flag and num1<=num2:\n",
    "                    index=(len(str(num1))+len(str(num2)))\n",
    "                    while index<=len(num)-len(str(num2)):\n",
    "                        sum = num1+num2\n",
    "                        index+=(len(str(sum)))\n",
    "                        if num[index-len(str(sum)):].startswith(str(sum)):\n",
    "                            num1=num2\n",
    "                            num2=sum\n",
    "                            flag = True\n",
    "                        else:\n",
    "                            flag = False\n",
    "                            break\n",
    "                    if num[index:]!='' and len(num[index:])<len(str(num2)):\n",
    "                        flag=False    \n",
    "                    if flag:\n",
    "                        return  str(flag).lower()\n",
    "        return  str(flag).lower()"
   ]
  },
  {
   "cell_type": "code",
   "execution_count": 1017,
   "id": "f3344600-ac24-4e72-a931-fba68fc5029e",
   "metadata": {},
   "outputs": [
    {
     "data": {
      "text/plain": [
       "'true'"
      ]
     },
     "execution_count": 1017,
     "metadata": {},
     "output_type": "execute_result"
    }
   ],
   "source": [
    "num = \"1123581321\"\n",
    "isAdditiveNumber(num)\n"
   ]
  },
  {
   "cell_type": "code",
   "execution_count": 1020,
   "id": "d2b08022-18ae-439c-ac78-0aacf861b7eb",
   "metadata": {
    "scrolled": true
   },
   "outputs": [
    {
     "data": {
      "text/plain": [
       "'true'"
      ]
     },
     "execution_count": 1020,
     "metadata": {},
     "output_type": "execute_result"
    }
   ],
   "source": [
    "#Example 2:\n",
    "\n",
    "num = \"199100199\"\n",
    "isAdditiveNumber(num)"
   ]
  },
  {
   "cell_type": "code",
   "execution_count": null,
   "id": "635b5f4e-65b4-4c75-81ec-663d519ad2a8",
   "metadata": {},
   "outputs": [],
   "source": []
  }
 ],
 "metadata": {
  "kernelspec": {
   "display_name": "Python 3 (ipykernel)",
   "language": "python",
   "name": "python3"
  },
  "language_info": {
   "codemirror_mode": {
    "name": "ipython",
    "version": 3
   },
   "file_extension": ".py",
   "mimetype": "text/x-python",
   "name": "python",
   "nbconvert_exporter": "python",
   "pygments_lexer": "ipython3",
   "version": "3.11.7"
  }
 },
 "nbformat": 4,
 "nbformat_minor": 5
}
